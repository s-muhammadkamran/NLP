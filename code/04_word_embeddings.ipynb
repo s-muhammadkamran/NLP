{
 "cells": [
  {
   "cell_type": "markdown",
   "id": "e439735c",
   "metadata": {},
   "source": [
    "# Word Embeddings\n",
    "\n",
    "- Word2Vec\n",
    "- CBOW\n",
    "- SkipGram"
   ]
  }
 ],
 "metadata": {
  "language_info": {
   "name": "python"
  }
 },
 "nbformat": 4,
 "nbformat_minor": 5
}
