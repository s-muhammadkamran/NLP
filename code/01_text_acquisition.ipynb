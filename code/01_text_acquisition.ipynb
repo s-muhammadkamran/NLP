{
 "cells": [
  {
   "cell_type": "markdown",
   "id": "dc396647",
   "metadata": {},
   "source": [
    "# Text Acquisition\n",
    "\n",
    "Some of the data acquisition techniques are as below:\n",
    "\n",
    "- Manual Data Entry\n",
    "- Surveys\n",
    "- Sensor & IoT Devices\n",
    "- Transactional System (In House Databases)\n",
    "- External Datasets & APIs\n",
    "- Web Scrapping & Crawling\n",
    "- Logs & Machine Generated Data\n",
    "- Third Party Vendors (Marketplace)\n",
    "- Crowdsourcing\n",
    "- Public Records (Government Data)\n",
    "- Partnership & Collaboration"
   ]
  }
 ],
 "metadata": {
  "language_info": {
   "name": "python"
  }
 },
 "nbformat": 4,
 "nbformat_minor": 5
}
