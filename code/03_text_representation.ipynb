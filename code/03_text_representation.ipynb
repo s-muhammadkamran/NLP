{
 "cells": [
  {
   "cell_type": "markdown",
   "id": "98ccb55d",
   "metadata": {},
   "source": [
    "# Feature Extraction From Text\n",
    "\n",
    "### Text Representation / Text Vectorization\n",
    "\n",
    "- One Hot Encoding\n",
    "- Bag of Words (BOW)\n",
    "- Bag of n-grams\n",
    "- Tf/Idf (Term Frequency / Inverse Document Frequency)\n",
    "- Custom / Hybrid Features"
   ]
  }
 ],
 "metadata": {
  "language_info": {
   "name": "python"
  }
 },
 "nbformat": 4,
 "nbformat_minor": 5
}
