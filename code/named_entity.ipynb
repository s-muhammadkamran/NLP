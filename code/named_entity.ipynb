{
 "cells": [
  {
   "cell_type": "code",
   "execution_count": 1,
   "id": "85c403f4",
   "metadata": {},
   "outputs": [],
   "source": [
    "import nltk\n",
    "from nltk.corpus import stopwords\n",
    "from nltk.stem import WordNetLemmatizer\n",
    "import utility_func as util\n"
   ]
  },
  {
   "cell_type": "code",
   "execution_count": 2,
   "id": "b7664ef0",
   "metadata": {},
   "outputs": [
    {
     "name": "stderr",
     "output_type": "stream",
     "text": [
      "[nltk_data] Downloading package maxent_ne_chunker_tab to\n",
      "[nltk_data]     C:\\Users\\msyed\\AppData\\Roaming\\nltk_data...\n",
      "[nltk_data]   Package maxent_ne_chunker_tab is already up-to-date!\n"
     ]
    },
    {
     "data": {
      "text/plain": [
       "True"
      ]
     },
     "execution_count": 2,
     "metadata": {},
     "output_type": "execute_result"
    }
   ],
   "source": [
    "nltk.download('maxent_ne_chunker_tab')"
   ]
  },
  {
   "cell_type": "code",
   "execution_count": 3,
   "id": "97d135a7",
   "metadata": {},
   "outputs": [
    {
     "name": "stderr",
     "output_type": "stream",
     "text": [
      "[nltk_data] Downloading package words to\n",
      "[nltk_data]     C:\\Users\\msyed\\AppData\\Roaming\\nltk_data...\n",
      "[nltk_data]   Package words is already up-to-date!\n"
     ]
    },
    {
     "data": {
      "text/plain": [
       "True"
      ]
     },
     "execution_count": 3,
     "metadata": {},
     "output_type": "execute_result"
    }
   ],
   "source": [
    "nltk.download('words')"
   ]
  },
  {
   "cell_type": "code",
   "execution_count": 4,
   "id": "d440cb79",
   "metadata": {},
   "outputs": [
    {
     "name": "stdout",
     "output_type": "stream",
     "text": [
      "On 15th July 2024, Tesla Energy, which partnered with the Ministry of Climate Change in Pakistan, announced solar projects in Karachi and Lahore.\n",
      "\n",
      "In Riyadh, the Gulf Cooperation Council met at the King Abdulaziz International Conference Center, where Sheikh Mohammed bin Rashid Al Maktoum proposed a $2 billion green hydrogen fund.\n"
     ]
    }
   ],
   "source": [
    "corpus = util.readfile('../data/named_entity.md')\n",
    "print(corpus)"
   ]
  },
  {
   "cell_type": "code",
   "execution_count": 10,
   "id": "966f4c32",
   "metadata": {},
   "outputs": [
    {
     "data": {
      "text/plain": [
       "['On',\n",
       " '15th',\n",
       " 'July',\n",
       " '2024',\n",
       " ',',\n",
       " 'Tesla',\n",
       " 'Energy',\n",
       " ',',\n",
       " 'which',\n",
       " 'partnered']"
      ]
     },
     "execution_count": 10,
     "metadata": {},
     "output_type": "execute_result"
    }
   ],
   "source": [
    "words = nltk.word_tokenize(corpus)#.lower())\n",
    "words[:10]"
   ]
  },
  {
   "cell_type": "code",
   "execution_count": 6,
   "id": "d9669cc1",
   "metadata": {},
   "outputs": [],
   "source": [
    "#lemma = WordNetLemmatizer()\n",
    "#stop_words_set = stopwords.words()"
   ]
  },
  {
   "cell_type": "code",
   "execution_count": 7,
   "id": "3a3ce533",
   "metadata": {},
   "outputs": [],
   "source": [
    "#word_list = [lemma.lemmatize(word, 'v') for word in words if word not in stop_words_set]"
   ]
  },
  {
   "cell_type": "code",
   "execution_count": 11,
   "id": "c75c1cb7",
   "metadata": {},
   "outputs": [],
   "source": [
    "tag_list = nltk.pos_tag(words)"
   ]
  },
  {
   "cell_type": "code",
   "execution_count": 12,
   "id": "f7643621",
   "metadata": {},
   "outputs": [],
   "source": [
    "word_tree = nltk.ne_chunk(tag_list, True)"
   ]
  },
  {
   "cell_type": "code",
   "execution_count": null,
   "id": "6736ef1e",
   "metadata": {},
   "outputs": [
    {
     "ename": "",
     "evalue": "",
     "output_type": "error",
     "traceback": [
      "\u001b[1;31mThe Kernel crashed while executing code in the current cell or a previous cell. \n",
      "\u001b[1;31mPlease review the code in the cell(s) to identify a possible cause of the failure. \n",
      "\u001b[1;31mClick <a href='https://aka.ms/vscodeJupyterKernelCrash'>here</a> for more info. \n",
      "\u001b[1;31mView Jupyter <a href='command:jupyter.viewOutput'>log</a> for further details."
     ]
    }
   ],
   "source": [
    "try:\n",
    "    # It'll open a new window for graph.\n",
    "    # Close the Window when you are done\n",
    "    word_tree.draw()\n",
    "except Exception as ex:\n",
    "    print(f\"Error drawing word tree: {ex}\")"
   ]
  }
 ],
 "metadata": {
  "kernelspec": {
   "display_name": ".venv (3.11.9)",
   "language": "python",
   "name": "python3"
  },
  "language_info": {
   "codemirror_mode": {
    "name": "ipython",
    "version": 3
   },
   "file_extension": ".py",
   "mimetype": "text/x-python",
   "name": "python",
   "nbconvert_exporter": "python",
   "pygments_lexer": "ipython3",
   "version": "3.11.9"
  }
 },
 "nbformat": 4,
 "nbformat_minor": 5
}
