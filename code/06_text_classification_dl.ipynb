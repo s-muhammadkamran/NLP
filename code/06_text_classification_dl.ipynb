{
 "cells": [
  {
   "cell_type": "markdown",
   "id": "26e06262",
   "metadata": {},
   "source": [
    "# Text Classification using Deep Learning"
   ]
  },
  {
   "cell_type": "markdown",
   "id": "8d29e43d",
   "metadata": {},
   "source": [
    "### Text Classification Pipeline Steps:\n",
    "- Data Acquisition\n",
    "- Text Pre Processing\n",
    "- Text Vectorization\n",
    "- Modeling (RNN (LSTM, GRU), CNN, Transformers (BERT))\n",
    "- Model Evaluation (Accuracy Score, Confusion Matrix)\n",
    "- Deploy Model"
   ]
  }
 ],
 "metadata": {
  "language_info": {
   "name": "python"
  }
 },
 "nbformat": 4,
 "nbformat_minor": 5
}
