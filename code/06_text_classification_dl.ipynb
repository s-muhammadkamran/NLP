{
 "cells": [
  {
   "cell_type": "markdown",
   "id": "26e06262",
   "metadata": {},
   "source": [
    "# Text Classification using Deep Learning"
   ]
  }
 ],
 "metadata": {
  "language_info": {
   "name": "python"
  }
 },
 "nbformat": 4,
 "nbformat_minor": 5
}
