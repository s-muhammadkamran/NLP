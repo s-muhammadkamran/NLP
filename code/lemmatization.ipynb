{
 "cells": [
  {
   "cell_type": "markdown",
   "id": "e9e1585a",
   "metadata": {},
   "source": [
    "# Lemmatization"
   ]
  },
  {
   "cell_type": "code",
   "execution_count": 14,
   "id": "25dc9002",
   "metadata": {},
   "outputs": [],
   "source": [
    "import utility_func as util\n",
    "import nltk\n",
    "from nltk.stem import WordNetLemmatizer"
   ]
  },
  {
   "cell_type": "code",
   "execution_count": 15,
   "id": "149df03e",
   "metadata": {},
   "outputs": [
    {
     "name": "stderr",
     "output_type": "stream",
     "text": [
      "[nltk_data] Downloading package wordnet to\n",
      "[nltk_data]     C:\\Users\\msyed\\AppData\\Roaming\\nltk_data...\n"
     ]
    },
    {
     "data": {
      "text/plain": [
       "True"
      ]
     },
     "execution_count": 15,
     "metadata": {},
     "output_type": "execute_result"
    }
   ],
   "source": [
    "nltk.download('wordnet')"
   ]
  },
  {
   "cell_type": "code",
   "execution_count": 16,
   "id": "59a38810",
   "metadata": {},
   "outputs": [
    {
     "name": "stdout",
     "output_type": "stream",
     "text": [
      "['eating', 'eats', 'eaten', 'writing', 'writes', 'programming', 'programs', 'history', 'finally', 'finalize', 'studied', 'studying', 'study', 'running', 'runs', 'ran', 'runner', 'analysis', 'analyzing', 'analyzed', 'organize', 'organizing', 'organized', 'quick', 'quickly', 'slow', 'slowly', 'beautiful', 'beautifully', 'thought', 'thinking', 'understand', 'understanding', 'understood', 'development', 'develop', 'developed', 'developing', 'create', 'creating', 'created', 'creation', 'creative', 'solution', 'solving', 'solved', 'critical', 'critically', 'research', 'researcher', 'researching', 'present', 'presenting', 'presented', 'presentation']\n"
     ]
    }
   ],
   "source": [
    "corpus = util.readfile('../data/words_list.md')\n",
    "tokens = util.tokenize_words(corpus)\n",
    "print(tokens)"
   ]
  },
  {
   "cell_type": "code",
   "execution_count": 38,
   "id": "7a8de73f",
   "metadata": {},
   "outputs": [
    {
     "name": "stdout",
     "output_type": "stream",
     "text": [
      "================================\n",
      "    Word      :     Lemma    \n",
      "================================\n",
      "eating        : eat          \n",
      "eats          : eat          \n",
      "eaten         : eat          \n",
      "writing       : write        \n",
      "writes        : write        \n",
      "programming   : program      \n",
      "programs      : program      \n",
      "history       : history      \n",
      "finally       : finally      \n",
      "finalize      : finalize     \n",
      "studied       : study        \n",
      "studying      : study        \n",
      "study         : study        \n",
      "running       : run          \n",
      "runs          : run          \n",
      "ran           : run          \n",
      "runner        : runner       \n",
      "analysis      : analysis     \n",
      "analyzing     : analyze      \n",
      "analyzed      : analyze      \n",
      "organize      : organize     \n",
      "organizing    : organize     \n",
      "organized     : organize     \n",
      "quick         : quick        \n",
      "quickly       : quickly      \n",
      "slow          : slow         \n",
      "slowly        : slowly       \n",
      "beautiful     : beautiful    \n",
      "beautifully   : beautifully  \n",
      "thought       : think        \n",
      "thinking      : think        \n",
      "understand    : understand   \n",
      "understanding : understand   \n",
      "understood    : understand   \n",
      "development   : development  \n",
      "develop       : develop      \n",
      "developed     : develop      \n",
      "developing    : develop      \n",
      "create        : create       \n",
      "creating      : create       \n",
      "created       : create       \n",
      "creation      : creation     \n",
      "creative      : creative     \n",
      "solution      : solution     \n",
      "solving       : solve        \n",
      "solved        : solve        \n",
      "critical      : critical     \n",
      "critically    : critically   \n",
      "research      : research     \n",
      "researcher    : researcher   \n",
      "researching   : research     \n",
      "present       : present      \n",
      "presenting    : present      \n",
      "presented     : present      \n",
      "presentation  : presentation \n"
     ]
    }
   ],
   "source": [
    "wnl = WordNetLemmatizer()\n",
    "\n",
    "print(\"=\"*32)\n",
    "print(f\"{'Word':^13} : {'Lemma':^13}\")\n",
    "print(\"=\"*32)\n",
    "\n",
    "for word in tokens:\n",
    "    print(f\"{word:<13} : {wnl.lemmatize(word, pos='v'):<13}\")"
   ]
  }
 ],
 "metadata": {
  "kernelspec": {
   "display_name": ".venv (3.11.9)",
   "language": "python",
   "name": "python3"
  },
  "language_info": {
   "codemirror_mode": {
    "name": "ipython",
    "version": 3
   },
   "file_extension": ".py",
   "mimetype": "text/x-python",
   "name": "python",
   "nbconvert_exporter": "python",
   "pygments_lexer": "ipython3",
   "version": "3.11.9"
  }
 },
 "nbformat": 4,
 "nbformat_minor": 5
}
