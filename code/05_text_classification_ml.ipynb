{
 "cells": [
  {
   "cell_type": "markdown",
   "id": "31aa8c67",
   "metadata": {},
   "source": [
    "# Text Classification using Machine Learning"
   ]
  },
  {
   "cell_type": "markdown",
   "id": "99e7029f",
   "metadata": {},
   "source": [
    "### Text Classification Pipeline Steps:\n",
    "- Data Acquisition\n",
    "- Text Pre Processing\n",
    "- Text Vectorization\n",
    "- Modeling (Naive Bayes, Random Forrest, Logistic Regression)\n",
    "- Model Evaluation (Accuracy Score, Confusion Matrix)\n",
    "- Deploy Model"
   ]
  }
 ],
 "metadata": {
  "language_info": {
   "name": "python"
  }
 },
 "nbformat": 4,
 "nbformat_minor": 5
}
