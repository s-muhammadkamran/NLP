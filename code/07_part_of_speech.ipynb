{
 "cells": [
  {
   "cell_type": "markdown",
   "id": "baced85b",
   "metadata": {},
   "source": [
    "# Part of Speech Tagging"
   ]
  }
 ],
 "metadata": {
  "language_info": {
   "name": "python"
  }
 },
 "nbformat": 4,
 "nbformat_minor": 5
}
