{
 "cells": [
  {
   "cell_type": "markdown",
   "id": "baced85b",
   "metadata": {},
   "source": [
    "# Part of Speech Tagging"
   ]
  },
  {
   "cell_type": "markdown",
   "id": "dc873c4f",
   "metadata": {},
   "source": [
    "- Spacy\n",
    "- HMM (Hidden Markov Model)\n",
    "- Viterbi (Optimization Algorithm for HMM)"
   ]
  }
 ],
 "metadata": {
  "language_info": {
   "name": "python"
  }
 },
 "nbformat": 4,
 "nbformat_minor": 5
}
