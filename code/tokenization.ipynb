{
 "cells": [
  {
   "cell_type": "markdown",
   "id": "6f64b9d7",
   "metadata": {},
   "source": [
    "# Tokenization"
   ]
  },
  {
   "cell_type": "code",
   "execution_count": 2,
   "id": "9f8c29b8",
   "metadata": {},
   "outputs": [],
   "source": [
    "import nltk\n",
    "import utility_func\n",
    "\n",
    "from nltk.tokenize import sent_tokenize"
   ]
  },
  {
   "cell_type": "code",
   "execution_count": 10,
   "id": "3f2c9ba4",
   "metadata": {},
   "outputs": [
    {
     "name": "stderr",
     "output_type": "stream",
     "text": [
      "[nltk_data] Downloading package punkt_tab to\n",
      "[nltk_data]     C:\\Users\\msyed\\AppData\\Roaming\\nltk_data...\n",
      "[nltk_data]   Unzipping tokenizers\\punkt_tab.zip.\n"
     ]
    },
    {
     "data": {
      "text/plain": [
       "True"
      ]
     },
     "execution_count": 10,
     "metadata": {},
     "output_type": "execute_result"
    }
   ],
   "source": [
    "nltk.download('punkt_tab')"
   ]
  },
  {
   "cell_type": "code",
   "execution_count": null,
   "id": "70a00a7b",
   "metadata": {},
   "outputs": [],
   "source": [
    "nltk.download('punkt_tab')"
   ]
  },
  {
   "cell_type": "code",
   "execution_count": 5,
   "id": "6cc328d6",
   "metadata": {},
   "outputs": [
    {
     "name": "stdout",
     "output_type": "stream",
     "text": [
      "The quick brown fox jumps over the lazy dog.\n",
      "Artificial Intelligence is transforming the world.\n",
      "It rained heavily in Karachi last night.\n",
      "Customer support resolved my issue quickly.\n",
      "Python is a versatile programming language.\n",
      "Please respond to this email as soon as possible.\n",
      "She bought a new laptop from the market.\n",
      "The food at the restaurant was delicious.\n",
      "I forgot my umbrella at the office.\n",
      "Electric vehicles are becoming popular.\n",
      "Data privacy is a growing concern in technology.\n",
      "He completed the project ahead of schedule.\n",
      "Her favorite book is on the top shelf.\n",
      "The internet connection is very slow today.\n",
      "There will be a meeting at 10:00 AM tomorrow.\n",
      "COVID-19 changed the way we work and live.\n",
      "Congratulations on your promotion!\n",
      "I will visit Dubai next month.\n",
      "The train was delayed due to heavy rain.\n",
      "Reading regularly improves your vocabulary.\n"
     ]
    }
   ],
   "source": [
    "corpus = utility_func.readfile('../data/random_corpus.md')\n",
    "\n",
    "print(corpus)"
   ]
  },
  {
   "cell_type": "code",
   "execution_count": 7,
   "id": "1c397bb3",
   "metadata": {},
   "outputs": [
    {
     "data": {
      "text/plain": [
       "'The quick brown fox jumps over the lazy dog.\\nArtificial Intelligence is transforming the world.\\nIt rained heavily in Karachi last night.\\nCustomer support resolved my issue quickly.\\nPython is a versatile programming language.\\nPlease respond to this email as soon as possible.\\nShe bought a new laptop from the market.\\nThe food at the restaurant was delicious.\\nI forgot my umbrella at the office.\\nElectric vehicles are becoming popular.\\nData privacy is a growing concern in technology.\\nHe completed the project ahead of schedule.\\nHer favorite book is on the top shelf.\\nThe internet connection is very slow today.\\nThere will be a meeting at 10:00 AM tomorrow.\\nCOVID-19 changed the way we work and live.\\nCongratulations on your promotion!\\nI will visit Dubai next month.\\nThe train was delayed due to heavy rain.\\nReading regularly improves your vocabulary.'"
      ]
     },
     "execution_count": 7,
     "metadata": {},
     "output_type": "execute_result"
    }
   ],
   "source": [
    "try:\n",
    "    with open('../data/random_corpus.md') as file:\n",
    "        corpus = file.read()\n",
    "except Exception as e:\n",
    "    corpus = None\n",
    "    print(f\"Error reading corpus: {e}\")\n",
    "\n",
    "corpus"
   ]
  },
  {
   "cell_type": "markdown",
   "id": "592db00f",
   "metadata": {},
   "source": [
    "# Sentence Tokenization"
   ]
  },
  {
   "cell_type": "code",
   "execution_count": 22,
   "id": "302ebfb3",
   "metadata": {},
   "outputs": [
    {
     "name": "stdout",
     "output_type": "stream",
     "text": [
      "Sentence- 1: The quick brown fox jumps over the lazy dog.\n",
      "Sentence- 2: Artificial Intelligence is transforming the world.\n",
      "Sentence- 3: It rained heavily in Karachi last night.\n",
      "Sentence- 4: Customer support resolved my issue quickly.\n",
      "Sentence- 5: Python is a versatile programming language.\n",
      "Sentence- 6: Please respond to this email as soon as possible.\n",
      "Sentence- 7: She bought a new laptop from the market.\n",
      "Sentence- 8: The food at the restaurant was delicious.\n",
      "Sentence- 9: I forgot my umbrella at the office.\n",
      "Sentence-10: Electric vehicles are becoming popular.\n",
      "Sentence-11: Data privacy is a growing concern in technology.\n",
      "Sentence-12: He completed the project ahead of schedule.\n",
      "Sentence-13: Her favorite book is on the top shelf.\n",
      "Sentence-14: The internet connection is very slow today.\n",
      "Sentence-15: There will be a meeting at 10:00 AM tomorrow.\n",
      "Sentence-16: COVID-19 changed the way we work and live.\n",
      "Sentence-17: Congratulations on your promotion!\n",
      "Sentence-18: I will visit Dubai next month.\n",
      "Sentence-19: The train was delayed due to heavy rain.\n",
      "Sentence-20: Reading regularly improves your vocabulary.\n"
     ]
    }
   ],
   "source": [
    "documents = sent_tokenize(corpus)\n",
    "\n",
    "for i, doc in enumerate(documents):\n",
    "    print(f\"Sentence-{i+1:2}: {doc}\")"
   ]
  },
  {
   "cell_type": "markdown",
   "id": "ea925e05",
   "metadata": {},
   "source": [
    "# Word Tokenization"
   ]
  },
  {
   "cell_type": "code",
   "execution_count": 23,
   "id": "33fbb29c",
   "metadata": {},
   "outputs": [],
   "source": [
    "from nltk.tokenize import word_tokenize"
   ]
  },
  {
   "cell_type": "code",
   "execution_count": 24,
   "id": "9076c2d7",
   "metadata": {},
   "outputs": [],
   "source": [
    "words_list = word_tokenize(corpus)"
   ]
  },
  {
   "cell_type": "code",
   "execution_count": 25,
   "id": "09f3008e",
   "metadata": {},
   "outputs": [
    {
     "data": {
      "text/plain": [
       "['The',\n",
       " 'quick',\n",
       " 'brown',\n",
       " 'fox',\n",
       " 'jumps',\n",
       " 'over',\n",
       " 'the',\n",
       " 'lazy',\n",
       " 'dog',\n",
       " '.',\n",
       " 'Artificial',\n",
       " 'Intelligence',\n",
       " 'is',\n",
       " 'transforming',\n",
       " 'the',\n",
       " 'world',\n",
       " '.',\n",
       " 'It',\n",
       " 'rained',\n",
       " 'heavily',\n",
       " 'in',\n",
       " 'Karachi',\n",
       " 'last',\n",
       " 'night',\n",
       " '.',\n",
       " 'Customer',\n",
       " 'support',\n",
       " 'resolved',\n",
       " 'my',\n",
       " 'issue',\n",
       " 'quickly',\n",
       " '.',\n",
       " 'Python',\n",
       " 'is',\n",
       " 'a',\n",
       " 'versatile',\n",
       " 'programming',\n",
       " 'language',\n",
       " '.',\n",
       " 'Please',\n",
       " 'respond',\n",
       " 'to',\n",
       " 'this',\n",
       " 'email',\n",
       " 'as',\n",
       " 'soon',\n",
       " 'as',\n",
       " 'possible',\n",
       " '.',\n",
       " 'She',\n",
       " 'bought',\n",
       " 'a',\n",
       " 'new',\n",
       " 'laptop',\n",
       " 'from',\n",
       " 'the',\n",
       " 'market',\n",
       " '.',\n",
       " 'The',\n",
       " 'food',\n",
       " 'at',\n",
       " 'the',\n",
       " 'restaurant',\n",
       " 'was',\n",
       " 'delicious',\n",
       " '.',\n",
       " 'I',\n",
       " 'forgot',\n",
       " 'my',\n",
       " 'umbrella',\n",
       " 'at',\n",
       " 'the',\n",
       " 'office',\n",
       " '.',\n",
       " 'Electric',\n",
       " 'vehicles',\n",
       " 'are',\n",
       " 'becoming',\n",
       " 'popular',\n",
       " '.',\n",
       " 'Data',\n",
       " 'privacy',\n",
       " 'is',\n",
       " 'a',\n",
       " 'growing',\n",
       " 'concern',\n",
       " 'in',\n",
       " 'technology',\n",
       " '.',\n",
       " 'He',\n",
       " 'completed',\n",
       " 'the',\n",
       " 'project',\n",
       " 'ahead',\n",
       " 'of',\n",
       " 'schedule',\n",
       " '.',\n",
       " 'Her',\n",
       " 'favorite',\n",
       " 'book',\n",
       " 'is',\n",
       " 'on',\n",
       " 'the',\n",
       " 'top',\n",
       " 'shelf',\n",
       " '.',\n",
       " 'The',\n",
       " 'internet',\n",
       " 'connection',\n",
       " 'is',\n",
       " 'very',\n",
       " 'slow',\n",
       " 'today',\n",
       " '.',\n",
       " 'There',\n",
       " 'will',\n",
       " 'be',\n",
       " 'a',\n",
       " 'meeting',\n",
       " 'at',\n",
       " '10:00',\n",
       " 'AM',\n",
       " 'tomorrow',\n",
       " '.',\n",
       " 'COVID-19',\n",
       " 'changed',\n",
       " 'the',\n",
       " 'way',\n",
       " 'we',\n",
       " 'work',\n",
       " 'and',\n",
       " 'live',\n",
       " '.',\n",
       " 'Congratulations',\n",
       " 'on',\n",
       " 'your',\n",
       " 'promotion',\n",
       " '!',\n",
       " 'I',\n",
       " 'will',\n",
       " 'visit',\n",
       " 'Dubai',\n",
       " 'next',\n",
       " 'month',\n",
       " '.',\n",
       " 'The',\n",
       " 'train',\n",
       " 'was',\n",
       " 'delayed',\n",
       " 'due',\n",
       " 'to',\n",
       " 'heavy',\n",
       " 'rain',\n",
       " '.',\n",
       " 'Reading',\n",
       " 'regularly',\n",
       " 'improves',\n",
       " 'your',\n",
       " 'vocabulary',\n",
       " '.']"
      ]
     },
     "execution_count": 25,
     "metadata": {},
     "output_type": "execute_result"
    }
   ],
   "source": [
    "words_list"
   ]
  },
  {
   "cell_type": "markdown",
   "id": "4b73107c",
   "metadata": {},
   "source": [
    "# WordPunctTokenizer"
   ]
  },
  {
   "cell_type": "code",
   "execution_count": 26,
   "id": "d60384d4",
   "metadata": {},
   "outputs": [],
   "source": [
    "from nltk.tokenize import WordPunctTokenizer"
   ]
  },
  {
   "cell_type": "code",
   "execution_count": 38,
   "id": "1ae47a3e",
   "metadata": {},
   "outputs": [
    {
     "name": "stdout",
     "output_type": "stream",
     "text": [
      "['The', 'quick', 'brown', 'fox', 'jumps', 'over', 'the', 'lazy', 'dog', '.']\n",
      "['Artificial', 'Intelligence', 'is', 'transforming', 'the', 'world', '.']\n",
      "['It', 'rained', 'heavily', 'in', 'Karachi', 'last', 'night', '.']\n",
      "['Customer', 'support', 'resolved', 'my', 'issue', 'quickly', '.']\n",
      "['Python', 'is', 'a', 'versatile', 'programming', 'language', '.']\n",
      "['Please', 'respond', 'to', 'this', 'email', 'as', 'soon', 'as', 'possible', '.']\n",
      "['She', 'bought', 'a', 'new', 'laptop', 'from', 'the', 'market', '.']\n",
      "['The', 'food', 'at', 'the', 'restaurant', 'was', 'delicious', '.']\n",
      "['I', 'forgot', 'my', 'umbrella', 'at', 'the', 'office', '.']\n",
      "['Electric', 'vehicles', 'are', 'becoming', 'popular', '.']\n",
      "['Data', 'privacy', 'is', 'a', 'growing', 'concern', 'in', 'technology', '.']\n",
      "['He', 'completed', 'the', 'project', 'ahead', 'of', 'schedule', '.']\n",
      "['Her', 'favorite', 'book', 'is', 'on', 'the', 'top', 'shelf', '.']\n",
      "['The', 'internet', 'connection', 'is', 'very', 'slow', 'today', '.']\n",
      "['There', 'will', 'be', 'a', 'meeting', 'at', '10', ':', '00', 'AM', 'tomorrow', '.']\n",
      "['COVID', '-', '19', 'changed', 'the', 'way', 'we', 'work', 'and', 'live', '.']\n",
      "['Congratulations', 'on', 'your', 'promotion', '!']\n",
      "['I', 'will', 'visit', 'Dubai', 'next', 'month', '.']\n",
      "['The', 'train', 'was', 'delayed', 'due', 'to', 'heavy', 'rain', '.']\n",
      "['Reading', 'regularly', 'improves', 'your', 'vocabulary', '.']\n"
     ]
    }
   ],
   "source": [
    "tokenizer = WordPunctTokenizer()\n",
    "\n",
    "for doc in documents:\n",
    "    print(tokenizer.tokenize(doc))"
   ]
  },
  {
   "cell_type": "code",
   "execution_count": 43,
   "id": "e3271d82",
   "metadata": {},
   "outputs": [],
   "source": [
    "from nltk.tokenize import wordpunct_tokenize"
   ]
  },
  {
   "cell_type": "code",
   "execution_count": 44,
   "id": "0cf599ba",
   "metadata": {},
   "outputs": [
    {
     "name": "stdout",
     "output_type": "stream",
     "text": [
      "['The', 'quick', 'brown', 'fox', 'jumps', 'over', 'the', 'lazy', 'dog', '.']\n",
      "['Artificial', 'Intelligence', 'is', 'transforming', 'the', 'world', '.']\n",
      "['It', 'rained', 'heavily', 'in', 'Karachi', 'last', 'night', '.']\n",
      "['Customer', 'support', 'resolved', 'my', 'issue', 'quickly', '.']\n",
      "['Python', 'is', 'a', 'versatile', 'programming', 'language', '.']\n",
      "['Please', 'respond', 'to', 'this', 'email', 'as', 'soon', 'as', 'possible', '.']\n",
      "['She', 'bought', 'a', 'new', 'laptop', 'from', 'the', 'market', '.']\n",
      "['The', 'food', 'at', 'the', 'restaurant', 'was', 'delicious', '.']\n",
      "['I', 'forgot', 'my', 'umbrella', 'at', 'the', 'office', '.']\n",
      "['Electric', 'vehicles', 'are', 'becoming', 'popular', '.']\n",
      "['Data', 'privacy', 'is', 'a', 'growing', 'concern', 'in', 'technology', '.']\n",
      "['He', 'completed', 'the', 'project', 'ahead', 'of', 'schedule', '.']\n",
      "['Her', 'favorite', 'book', 'is', 'on', 'the', 'top', 'shelf', '.']\n",
      "['The', 'internet', 'connection', 'is', 'very', 'slow', 'today', '.']\n",
      "['There', 'will', 'be', 'a', 'meeting', 'at', '10', ':', '00', 'AM', 'tomorrow', '.']\n",
      "['COVID', '-', '19', 'changed', 'the', 'way', 'we', 'work', 'and', 'live', '.']\n",
      "['Congratulations', 'on', 'your', 'promotion', '!']\n",
      "['I', 'will', 'visit', 'Dubai', 'next', 'month', '.']\n",
      "['The', 'train', 'was', 'delayed', 'due', 'to', 'heavy', 'rain', '.']\n",
      "['Reading', 'regularly', 'improves', 'your', 'vocabulary', '.']\n"
     ]
    }
   ],
   "source": [
    "for doc in documents:\n",
    "    print(wordpunct_tokenize(doc))"
   ]
  },
  {
   "cell_type": "markdown",
   "id": "5a0fd906",
   "metadata": {},
   "source": [
    "# TreebankWordTokenizer"
   ]
  },
  {
   "cell_type": "code",
   "execution_count": 45,
   "id": "f22ec0f7",
   "metadata": {},
   "outputs": [],
   "source": [
    "from nltk.tokenize import TreebankWordTokenizer"
   ]
  },
  {
   "cell_type": "code",
   "execution_count": 50,
   "id": "9def81be",
   "metadata": {},
   "outputs": [
    {
     "name": "stdout",
     "output_type": "stream",
     "text": [
      "['The', 'quick', 'brown', 'fox', 'jumps', 'over', 'the', 'lazy', 'dog', '.']\n",
      "['Artificial', 'Intelligence', 'is', 'transforming', 'the', 'world', '.']\n",
      "['It', 'rained', 'heavily', 'in', 'Karachi', 'last', 'night', '.']\n",
      "['Customer', 'support', 'resolved', 'my', 'issue', 'quickly', '.']\n",
      "['Python', 'is', 'a', 'versatile', 'programming', 'language', '.']\n",
      "['Please', 'respond', 'to', 'this', 'email', 'as', 'soon', 'as', 'possible', '.']\n",
      "['She', 'bought', 'a', 'new', 'laptop', 'from', 'the', 'market', '.']\n",
      "['The', 'food', 'at', 'the', 'restaurant', 'was', 'delicious', '.']\n",
      "['I', 'forgot', 'my', 'umbrella', 'at', 'the', 'office', '.']\n",
      "['Electric', 'vehicles', 'are', 'becoming', 'popular', '.']\n",
      "['Data', 'privacy', 'is', 'a', 'growing', 'concern', 'in', 'technology', '.']\n",
      "['He', 'completed', 'the', 'project', 'ahead', 'of', 'schedule', '.']\n",
      "['Her', 'favorite', 'book', 'is', 'on', 'the', 'top', 'shelf', '.']\n",
      "['The', 'internet', 'connection', 'is', 'very', 'slow', 'today', '.']\n",
      "['There', 'will', 'be', 'a', 'meeting', 'at', '10:00', 'AM', 'tomorrow', '.']\n",
      "['COVID-19', 'changed', 'the', 'way', 'we', 'work', 'and', 'live', '.']\n",
      "['Congratulations', 'on', 'your', 'promotion', '!']\n",
      "['I', 'will', 'visit', 'Dubai', 'next', 'month', '.']\n",
      "['The', 'train', 'was', 'delayed', 'due', 'to', 'heavy', 'rain', '.']\n",
      "['Reading', 'regularly', 'improves', 'your', 'vocabulary', '.']\n"
     ]
    }
   ],
   "source": [
    "tokenizer = TreebankWordTokenizer()\n",
    "words_list = []\n",
    "for doc in documents:\n",
    "    words_list.append(tokenizer.tokenize(doc))\n",
    "\n",
    "for word in words_list:\n",
    "    print(word)"
   ]
  },
  {
   "cell_type": "markdown",
   "id": "dac9d07c",
   "metadata": {},
   "source": [
    "# DeTokenizer"
   ]
  },
  {
   "cell_type": "code",
   "execution_count": 51,
   "id": "cfb3e0ea",
   "metadata": {},
   "outputs": [],
   "source": [
    "from nltk.tokenize import TreebankWordDetokenizer"
   ]
  },
  {
   "cell_type": "code",
   "execution_count": 52,
   "id": "35f5cbb9",
   "metadata": {},
   "outputs": [
    {
     "name": "stdout",
     "output_type": "stream",
     "text": [
      "The quick brown fox jumps over the lazy dog.\n",
      "Artificial Intelligence is transforming the world.\n",
      "It rained heavily in Karachi last night.\n",
      "Customer support resolved my issue quickly.\n",
      "Python is a versatile programming language.\n",
      "Please respond to this email as soon as possible.\n",
      "She bought a new laptop from the market.\n",
      "The food at the restaurant was delicious.\n",
      "I forgot my umbrella at the office.\n",
      "Electric vehicles are becoming popular.\n",
      "Data privacy is a growing concern in technology.\n",
      "He completed the project ahead of schedule.\n",
      "Her favorite book is on the top shelf.\n",
      "The internet connection is very slow today.\n",
      "There will be a meeting at 10:00 AM tomorrow.\n",
      "COVID-19 changed the way we work and live.\n",
      "Congratulations on your promotion!\n",
      "I will visit Dubai next month.\n",
      "The train was delayed due to heavy rain.\n",
      "Reading regularly improves your vocabulary.\n"
     ]
    }
   ],
   "source": [
    "detokenizer = TreebankWordDetokenizer()\n",
    "\n",
    "for word in words_list:\n",
    "    print(detokenizer.tokenize(word))"
   ]
  }
 ],
 "metadata": {
  "kernelspec": {
   "display_name": ".venv (3.11.9)",
   "language": "python",
   "name": "python3"
  },
  "language_info": {
   "codemirror_mode": {
    "name": "ipython",
    "version": 3
   },
   "file_extension": ".py",
   "mimetype": "text/x-python",
   "name": "python",
   "nbconvert_exporter": "python",
   "pygments_lexer": "ipython3",
   "version": "3.11.9"
  }
 },
 "nbformat": 4,
 "nbformat_minor": 5
}
