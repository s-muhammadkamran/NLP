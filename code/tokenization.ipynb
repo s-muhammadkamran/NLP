{
 "cells": [
  {
   "cell_type": "code",
   "execution_count": 2,
   "id": "9f8c29b8",
   "metadata": {},
   "outputs": [],
   "source": [
    "from nltk.tokenize import sent_tokenize"
   ]
  },
  {
   "cell_type": "code",
   "execution_count": 1,
   "id": "1c397bb3",
   "metadata": {},
   "outputs": [
    {
     "data": {
      "text/plain": [
       "'The quick brown fox jumps over the lazy dog.\\nArtificial Intelligence is transforming the world.\\nIt rained heavily in Karachi last night.\\nCustomer support resolved my issue quickly.\\nPython is a versatile programming language.\\nPlease respond to this email as soon as possible.\\nShe bought a new laptop from the market.\\nThe food at the restaurant was delicious.\\nI forgot my umbrella at the office.\\nElectric vehicles are becoming popular.\\nData privacy is a growing concern in technology.\\nHe completed the project ahead of schedule.\\nHer favorite book is on the top shelf.\\nThe internet connection is very slow today.\\nThere will be a meeting at 10:00 AM tomorrow.\\nCOVID-19 changed the way we work and live.\\nCongratulations on your promotion!\\nI will visit Dubai next month.\\nThe train was delayed due to heavy rain.\\nReading regularly improves your vocabulary.'"
      ]
     },
     "execution_count": 1,
     "metadata": {},
     "output_type": "execute_result"
    }
   ],
   "source": [
    "try:\n",
    "    with open('../data/random_corpus.md') as file:\n",
    "        corpus = file.read()\n",
    "except Exception as e:\n",
    "    corpus = None\n",
    "    print(f\"Error reading corpus: {e}\")\n",
    "\n",
    "corpus"
   ]
  }
 ],
 "metadata": {
  "kernelspec": {
   "display_name": ".venv (3.11.9)",
   "language": "python",
   "name": "python3"
  },
  "language_info": {
   "codemirror_mode": {
    "name": "ipython",
    "version": 3
   },
   "file_extension": ".py",
   "mimetype": "text/x-python",
   "name": "python",
   "nbconvert_exporter": "python",
   "pygments_lexer": "ipython3",
   "version": "3.11.9"
  }
 },
 "nbformat": 4,
 "nbformat_minor": 5
}
